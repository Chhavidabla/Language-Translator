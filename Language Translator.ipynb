{
 "cells": [
  {
   "cell_type": "code",
   "execution_count": 2,
   "id": "20c7d2f5",
   "metadata": {},
   "outputs": [
    {
     "name": "stdout",
     "output_type": "stream",
     "text": [
      "Requirement already satisfied: googletrans in c:\\users\\hp\\anaconda3\\lib\\site-packages (3.0.0)\n",
      "Requirement already satisfied: httpx==0.13.3 in c:\\users\\hp\\anaconda3\\lib\\site-packages (from googletrans) (0.13.3)\n",
      "Requirement already satisfied: certifi in c:\\users\\hp\\anaconda3\\lib\\site-packages (from httpx==0.13.3->googletrans) (2023.7.22)\n",
      "Requirement already satisfied: hstspreload in c:\\users\\hp\\anaconda3\\lib\\site-packages (from httpx==0.13.3->googletrans) (2024.1.5)\n",
      "Requirement already satisfied: sniffio in c:\\users\\hp\\anaconda3\\lib\\site-packages (from httpx==0.13.3->googletrans) (1.2.0)\n",
      "Requirement already satisfied: chardet==3.* in c:\\users\\hp\\anaconda3\\lib\\site-packages (from httpx==0.13.3->googletrans) (3.0.4)\n",
      "Requirement already satisfied: idna==2.* in c:\\users\\hp\\anaconda3\\lib\\site-packages (from httpx==0.13.3->googletrans) (2.10)\n",
      "Requirement already satisfied: rfc3986<2,>=1.3 in c:\\users\\hp\\anaconda3\\lib\\site-packages (from httpx==0.13.3->googletrans) (1.5.0)\n",
      "Requirement already satisfied: httpcore==0.9.* in c:\\users\\hp\\anaconda3\\lib\\site-packages (from httpx==0.13.3->googletrans) (0.9.1)\n",
      "Requirement already satisfied: h11<0.10,>=0.8 in c:\\users\\hp\\anaconda3\\lib\\site-packages (from httpcore==0.9.*->httpx==0.13.3->googletrans) (0.9.0)\n",
      "Requirement already satisfied: h2==3.* in c:\\users\\hp\\anaconda3\\lib\\site-packages (from httpcore==0.9.*->httpx==0.13.3->googletrans) (3.2.0)\n",
      "Requirement already satisfied: hyperframe<6,>=5.2.0 in c:\\users\\hp\\anaconda3\\lib\\site-packages (from h2==3.*->httpcore==0.9.*->httpx==0.13.3->googletrans) (5.2.0)\n",
      "Requirement already satisfied: hpack<4,>=3.0 in c:\\users\\hp\\anaconda3\\lib\\site-packages (from h2==3.*->httpcore==0.9.*->httpx==0.13.3->googletrans) (3.0.0)\n",
      "Note: you may need to restart the kernel to use updated packages.\n"
     ]
    }
   ],
   "source": [
    "pip install googletrans"
   ]
  },
  {
   "cell_type": "code",
   "execution_count": 1,
   "id": "53bdb194",
   "metadata": {},
   "outputs": [
    {
     "name": "stdout",
     "output_type": "stream",
     "text": [
      "Requirement already satisfied: googletrans==3.1.0a0 in c:\\users\\hp\\anaconda3\\lib\\site-packages (3.1.0a0)\n",
      "Requirement already satisfied: httpx==0.13.3 in c:\\users\\hp\\anaconda3\\lib\\site-packages (from googletrans==3.1.0a0) (0.13.3)\n",
      "Requirement already satisfied: certifi in c:\\users\\hp\\anaconda3\\lib\\site-packages (from httpx==0.13.3->googletrans==3.1.0a0) (2023.7.22)\n",
      "Requirement already satisfied: hstspreload in c:\\users\\hp\\anaconda3\\lib\\site-packages (from httpx==0.13.3->googletrans==3.1.0a0) (2024.1.5)\n",
      "Requirement already satisfied: sniffio in c:\\users\\hp\\anaconda3\\lib\\site-packages (from httpx==0.13.3->googletrans==3.1.0a0) (1.2.0)\n",
      "Requirement already satisfied: chardet==3.* in c:\\users\\hp\\anaconda3\\lib\\site-packages (from httpx==0.13.3->googletrans==3.1.0a0) (3.0.4)\n",
      "Requirement already satisfied: idna==2.* in c:\\users\\hp\\anaconda3\\lib\\site-packages (from httpx==0.13.3->googletrans==3.1.0a0) (2.10)\n",
      "Requirement already satisfied: rfc3986<2,>=1.3 in c:\\users\\hp\\anaconda3\\lib\\site-packages (from httpx==0.13.3->googletrans==3.1.0a0) (1.5.0)\n",
      "Requirement already satisfied: httpcore==0.9.* in c:\\users\\hp\\anaconda3\\lib\\site-packages (from httpx==0.13.3->googletrans==3.1.0a0) (0.9.1)\n",
      "Requirement already satisfied: h11<0.10,>=0.8 in c:\\users\\hp\\anaconda3\\lib\\site-packages (from httpcore==0.9.*->httpx==0.13.3->googletrans==3.1.0a0) (0.9.0)\n",
      "Requirement already satisfied: h2==3.* in c:\\users\\hp\\anaconda3\\lib\\site-packages (from httpcore==0.9.*->httpx==0.13.3->googletrans==3.1.0a0) (3.2.0)\n",
      "Requirement already satisfied: hyperframe<6,>=5.2.0 in c:\\users\\hp\\anaconda3\\lib\\site-packages (from h2==3.*->httpcore==0.9.*->httpx==0.13.3->googletrans==3.1.0a0) (5.2.0)\n",
      "Requirement already satisfied: hpack<4,>=3.0 in c:\\users\\hp\\anaconda3\\lib\\site-packages (from h2==3.*->httpcore==0.9.*->httpx==0.13.3->googletrans==3.1.0a0) (3.0.0)\n",
      "Note: you may need to restart the kernel to use updated packages.\n"
     ]
    }
   ],
   "source": [
    "pip install googletrans==3.1.0a0"
   ]
  },
  {
   "cell_type": "code",
   "execution_count": 4,
   "id": "fe508a7d",
   "metadata": {},
   "outputs": [],
   "source": [
    "from tkinter import*\n",
    "import tkinter as tk\n",
    "from tkinter import ttk,messagebox\n",
    "import googletrans\n",
    "from googletrans import Translator\n",
    "\n",
    "root=Tk()\n",
    "root.title(\"Google Translator 2.O\")\n",
    "root.geometry(\"590x370\")\n",
    "root.resizable(False,False)\n",
    "root.configure(background=\"white\")\n",
    "\n",
    "frame1=Frame(root,width=590,height=370,relief=RIDGE,borderwidth=5,bg='#fbdcfe')\n",
    "frame1.place(x=0,y=0)\n",
    "Label(root,text='Language Translator',font=(\"Helvetica 20 bold\"),fg=\"black\",bg='#fbdcfe').pack(pady=10)\n",
    "\n",
    "\n",
    "def translate():\n",
    "    lang_1=text_entry1.get(\"1.0\",\"end-1c\")\n",
    "    cl=choose_language.get()\n",
    "    \n",
    "    if lang_1=='':\n",
    "        messagebox.showerror('Language Translator','Enter the text to Translator!')\n",
    "    else:\n",
    "        text_entry2.delete(1.0,'end')\n",
    "        translator=Translator()\n",
    "        output=translator.translate(lang_1,dest=cl)\n",
    "        text_entry2.insert('end',output.text)\n",
    "def clear():\n",
    "    text_entry1.delete(1.0,'end')\n",
    "    text_entry2.delete(1.0,'end')\n",
    "    \n",
    "a=tk.StringVar()\n",
    "\n",
    "auto_select=ttk.Combobox(frame1,width=27,textvariable=a,state='randomly',font=('verdana',10,'bold'))\n",
    "auto_select['values']=('Auto Select')\n",
    "auto_select.place(x=15,y=60)\n",
    "auto_select.current(0)\n",
    "\n",
    "l=tk.StringVar()\n",
    "choose_language=ttk.Combobox(frame1,width=27,textvariable=l,state='randomly',font=('verdana',10,'bold'))\n",
    "choose_language['values']=(\"Afrikaans\",'Albanian','Arabic','Armenian','Azerbaijani','Basque Spanish',\n",
    "                           'Belarusian','Bengali','Bosnian','Bulgarian','Catalan Spanish','Cebuano',\n",
    "                        'Chadic','Chinese (Mandarin)','Colombian Spanish','Croatian','Czech','Danish',\n",
    "                           'Dutch','English American','English Australian', 'English Irish',\n",
    "                           'English Indian','English Scottish','English UK','Esperanto','Estonian',\n",
    "                           'European French','European Spanish','Filipino','Finnish','Fiteny Malagasy',\n",
    "                           'French Canadian','Igbo','Irish','Galician','Georgian','German','Greek',\n",
    "                           'Gujarati','Haitian Creole','Hausa','Hebrew','Hindi','Hmong','Hungarian',\n",
    "                           'Icelandic','Indonesian','Italian','Japanese','Javanese','Kannada','Kazakh',\n",
    "                           'Khmer','Korean','Lao','Latin','Latvian','Lithuanian','Macedonian','Malay',\n",
    "                           'Malayalam','Maltese','Te Reo Maori','Marathi','Mexican Spanish','Mongolian',\n",
    "                           'Nepalese','Norwegian','Nyanja','Polish','Portuguese','Portuguese Brazilian',\n",
    "                           'Punjabi','Romanian','Russian','Scottish Gaelic','Serbian','Sinhala','Slovak',\n",
    "                           'Slovenian','Somali','Southern Sotho','Sudanese','Swahili','Swedish','Tajik',\n",
    "                           'Tamil','Telugu','Thai','Turkish','Ukrainian','Urdu','Uzbek','Vietnamese',\n",
    "                           'Yiddish','Yoruba','Zulu')\n",
    "\n",
    "choose_language.place(x=305,y=60)\n",
    "choose_language.current(0)\n",
    "\n",
    "#icon\n",
    "image_icon=PhotoImage(file=\"C:/Users/HP/OneDrive/Desktop - Copy/Google_Translate_Icon.png\")\n",
    "root.iconphoto(False,image_icon)\n",
    "\n",
    "text_entry1=Text(frame1,width=20,height=7,borderwidth=5,relief=RIDGE,font=('verdana',15))\n",
    "text_entry1.place(x=10,y=100)\n",
    "text_entry2=Text(frame1,width=20,height=7,borderwidth=5,relief=RIDGE,font=('verdana',15))\n",
    "text_entry2.place(x=300,y=100)\n",
    "\n",
    "btn1=Button(frame1,command=translate,text='Translate',relief=RAISED,borderwidth=2,font=('verdana',10,'bold'),bg='#248aa2',fg=\"white\",cursor=\"hand2\")\n",
    "btn1.place(x=185,y=300)\n",
    "btn2=Button(frame1,command=clear,text='Clear',relief=RAISED,borderwidth=2,font=('verdana',10,'bold'),bg='#248aa2',fg=\"white\",cursor=\"hand2\")\n",
    "btn2.place(x=300,y=300)\n",
    "\n",
    "root.mainloop()"
   ]
  },
  {
   "cell_type": "code",
   "execution_count": null,
   "id": "e37ec7a1",
   "metadata": {},
   "outputs": [],
   "source": []
  },
  {
   "cell_type": "code",
   "execution_count": null,
   "id": "5f4b66a9",
   "metadata": {},
   "outputs": [],
   "source": []
  }
 ],
 "metadata": {
  "kernelspec": {
   "display_name": "Python 3 (ipykernel)",
   "language": "python",
   "name": "python3"
  },
  "language_info": {
   "codemirror_mode": {
    "name": "ipython",
    "version": 3
   },
   "file_extension": ".py",
   "mimetype": "text/x-python",
   "name": "python",
   "nbconvert_exporter": "python",
   "pygments_lexer": "ipython3",
   "version": "3.11.4"
  }
 },
 "nbformat": 4,
 "nbformat_minor": 5
}
